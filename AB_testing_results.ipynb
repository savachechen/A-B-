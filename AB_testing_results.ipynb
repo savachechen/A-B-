{
 "cells": [
  {
   "cell_type": "markdown",
   "id": "9be8ccce",
   "metadata": {},
   "source": [
    "## A/B–тестирование"
   ]
  },
  {
   "cell_type": "markdown",
   "id": "d2de2d55",
   "metadata": {},
   "source": [
    "В ходе тестирования одной гипотезы целевой группе была предложена новая механика оплаты услуг на сайте, у контрольной группы оставалась базовая механика. Проанализируем итоги эксперимента и сделаем вывод, стоит ли запускать новую механику оплаты на всех пользователей."
   ]
  },
  {
   "cell_type": "markdown",
   "id": "568148d9",
   "metadata": {},
   "source": [
    "### Предобработаем данные!"
   ]
  },
  {
   "cell_type": "markdown",
   "id": "26ac5cc5",
   "metadata": {},
   "source": [
    "Импортируем необходимые библиотеки для работы с данными"
   ]
  },
  {
   "cell_type": "code",
   "execution_count": 1,
   "id": "44dc55a8",
   "metadata": {},
   "outputs": [],
   "source": [
    "import pandas as pd\n",
    "import seaborn as sns\n",
    "from matplotlib import pyplot as plt\n",
    "import numpy as np\n",
    "from io import StringIO\n",
    "import re\n",
    "import requests\n",
    "import scipy\n",
    "import scipy.stats as stats\n",
    "from scipy.stats import shapiro\n",
    "from scipy.stats import chi2_contingency\n",
    "from urllib.parse import urlencode\n",
    "import timeit\n",
    "import time\n",
    "%matplotlib inline"
   ]
  },
  {
   "cell_type": "markdown",
   "id": "4b127f0b",
   "metadata": {},
   "source": [
    "Для начала выгрузим наши дата сеты и проведем базовую проверку на количество строк, количество пропусков и на типы данных!"
   ]
  },
  {
   "cell_type": "code",
   "execution_count": 2,
   "id": "63b0504b",
   "metadata": {},
   "outputs": [],
   "source": [
    "# Реализуем функцию для выгрузки файлов с гугл диска\n",
    "def df_downloader(link, separator=','):\n",
    "    # Извлекаем ID файла из ссылки\n",
    "    file_id = link.split('/d/')[1].split('/')[0]\n",
    "    \n",
    "    # Формируем ссылку на скачивание\n",
    "    download_url = f'https://drive.google.com/uc?id={file_id}'\n",
    "    \n",
    "    # Отправляем запрос на данные\n",
    "    response = requests.get(download_url)\n",
    "    \n",
    "    # Проверяем статус ответа\n",
    "    if response.status_code == 200:\n",
    "        # Читаем скачанный файл с выбранным разделителем\n",
    "        df_temp = pd.read_csv(StringIO(response.text), sep=separator)\n",
    "        return df_temp\n",
    "    else:\n",
    "        print(f\"Ошибка при скачивании файла: {response.status_code} - {response.text}\")\n",
    "        return None\n",
    "\n",
    "\n",
    "groups_url = 'https://drive.google.com/file/d/1-KrIB3jYebsGJbN93MwgXtOD9rrTt1XN/view?usp=sharing'\n",
    "active_studs_url = 'https://drive.google.com/file/d/1-LmgoSVmzV0bfIumUQuZJIxoC4PQb9zL/view?usp=sharing'\n",
    "checks_url = 'https://drive.google.com/file/d/1-c8BfF2AXbjt_WzhEmRaskeX8CWqRBhK/view?usp=sharing'\n",
    "\n",
    "groups = df_downloader(groups_url)\n",
    "active_studs = df_downloader(active_studs_url)\n",
    "checks = df_downloader(checks_url)\n"
   ]
  },
  {
   "cell_type": "markdown",
   "id": "f9c77a07",
   "metadata": {},
   "source": [
    "Предобработаем для удобства датафрейм **groups**, сделав отдельную колонку с id студента \n",
    "и отдельную с принадлежностью к контрольной либо тестовой группе. Понимаю, что можно при выгрузке файла другой сепаратор указать, но я намеренно оставил ',' , чтобы потом провести некую обработку данных в колонках!"
   ]
  },
  {
   "cell_type": "code",
   "execution_count": 3,
   "id": "98c5ccec",
   "metadata": {},
   "outputs": [],
   "source": [
    "groups['student_id'] = groups['id;grp'].apply(lambda x: x.split(';')[0])\n",
    "groups['group'] = groups['id;grp'].apply(lambda x: x.split(';')[1])\n",
    "groups = groups[['student_id', 'group']]"
   ]
  },
  {
   "cell_type": "code",
   "execution_count": 4,
   "id": "384e1416",
   "metadata": {},
   "outputs": [
    {
     "data": {
      "text/plain": [
       "(74484, 2)"
      ]
     },
     "execution_count": 4,
     "metadata": {},
     "output_type": "execute_result"
    }
   ],
   "source": [
    "groups.shape"
   ]
  },
  {
   "cell_type": "code",
   "execution_count": 5,
   "id": "4dd4e29a",
   "metadata": {},
   "outputs": [
    {
     "data": {
      "text/plain": [
       "student_id    0\n",
       "group         0\n",
       "dtype: int64"
      ]
     },
     "execution_count": 5,
     "metadata": {},
     "output_type": "execute_result"
    }
   ],
   "source": [
    "groups.isna().sum()"
   ]
  },
  {
   "cell_type": "code",
   "execution_count": 6,
   "id": "44ee3211",
   "metadata": {},
   "outputs": [
    {
     "data": {
      "text/plain": [
       "student_id    object\n",
       "group         object\n",
       "dtype: object"
      ]
     },
     "execution_count": 6,
     "metadata": {},
     "output_type": "execute_result"
    }
   ],
   "source": [
    "groups.dtypes"
   ]
  },
  {
   "cell_type": "code",
   "execution_count": 7,
   "id": "e9337897",
   "metadata": {},
   "outputs": [
    {
     "data": {
      "text/plain": [
       "group\n",
       "B    59813\n",
       "A    14671\n",
       "Name: count, dtype: int64"
      ]
     },
     "execution_count": 7,
     "metadata": {},
     "output_type": "execute_result"
    }
   ],
   "source": [
    "groups.group.value_counts()"
   ]
  },
  {
   "cell_type": "markdown",
   "id": "0ea31006",
   "metadata": {},
   "source": [
    "C датафреймом **groups** всё в порядке (пропусков нет, колонки преведены к нужным типам данных). Обратим внимание на перекос выборок для контрольной и экспрериментальной групп! Экспериментальная группа группа примерно в **4** раза больше контрольной!"
   ]
  },
  {
   "cell_type": "code",
   "execution_count": 8,
   "id": "af36c581",
   "metadata": {},
   "outputs": [
    {
     "data": {
      "text/plain": [
       "(8341, 1)"
      ]
     },
     "execution_count": 8,
     "metadata": {},
     "output_type": "execute_result"
    }
   ],
   "source": [
    "active_studs.shape"
   ]
  },
  {
   "cell_type": "code",
   "execution_count": 9,
   "id": "2551464f",
   "metadata": {},
   "outputs": [
    {
     "data": {
      "text/plain": [
       "student_id    0\n",
       "dtype: int64"
      ]
     },
     "execution_count": 9,
     "metadata": {},
     "output_type": "execute_result"
    }
   ],
   "source": [
    "active_studs.isna().sum()"
   ]
  },
  {
   "cell_type": "code",
   "execution_count": 10,
   "id": "1bee316f",
   "metadata": {},
   "outputs": [
    {
     "data": {
      "text/plain": [
       "student_id    int64\n",
       "dtype: object"
      ]
     },
     "execution_count": 10,
     "metadata": {},
     "output_type": "execute_result"
    }
   ],
   "source": [
    "active_studs.dtypes"
   ]
  },
  {
   "cell_type": "code",
   "execution_count": 11,
   "id": "9a5e8ecd",
   "metadata": {},
   "outputs": [],
   "source": [
    "# Изменим тип данных колонки student_id с int на odject\n",
    "active_studs['student_id'] = active_studs['student_id'].astype(str)"
   ]
  },
  {
   "cell_type": "code",
   "execution_count": 12,
   "id": "a3e14760",
   "metadata": {},
   "outputs": [
    {
     "data": {
      "text/plain": [
       "8341"
      ]
     },
     "execution_count": 12,
     "metadata": {},
     "output_type": "execute_result"
    }
   ],
   "source": [
    "active_studs.student_id.nunique()"
   ]
  },
  {
   "cell_type": "markdown",
   "id": "473b8189",
   "metadata": {},
   "source": [
    "C датафреймом **active_studs** всё в порядке. У нас **8341** активный студент (зашедшие на платформу в дни проведения эксперимента)!"
   ]
  },
  {
   "cell_type": "markdown",
   "id": "381cbdcc",
   "metadata": {},
   "source": [
    "Предобработаем для удобства датафрейм **checks**, сделав отдельную колонку с id студента  \n",
    "и отдельную с оплатой студента."
   ]
  },
  {
   "cell_type": "code",
   "execution_count": 13,
   "id": "d38d82c0",
   "metadata": {},
   "outputs": [],
   "source": [
    "checks['student_id'] = checks['student_id;\"rev\"'].apply(lambda x: x.split(';')[0])\n",
    "checks['revenue'] = checks['student_id;\"rev\"'].apply(lambda x: x.split(';')[1])\n",
    "checks = checks[['student_id', 'revenue']]"
   ]
  },
  {
   "cell_type": "code",
   "execution_count": 14,
   "id": "feaec54b",
   "metadata": {},
   "outputs": [
    {
     "data": {
      "text/plain": [
       "(541, 2)"
      ]
     },
     "execution_count": 14,
     "metadata": {},
     "output_type": "execute_result"
    }
   ],
   "source": [
    "checks.shape"
   ]
  },
  {
   "cell_type": "code",
   "execution_count": 15,
   "id": "99e3660f",
   "metadata": {},
   "outputs": [
    {
     "data": {
      "text/plain": [
       "student_id    0\n",
       "revenue       0\n",
       "dtype: int64"
      ]
     },
     "execution_count": 15,
     "metadata": {},
     "output_type": "execute_result"
    }
   ],
   "source": [
    "checks.isna().sum()"
   ]
  },
  {
   "cell_type": "code",
   "execution_count": 16,
   "id": "6afa2bba",
   "metadata": {},
   "outputs": [
    {
     "data": {
      "text/plain": [
       "student_id    object\n",
       "revenue       object\n",
       "dtype: object"
      ]
     },
     "execution_count": 16,
     "metadata": {},
     "output_type": "execute_result"
    }
   ],
   "source": [
    "checks.dtypes"
   ]
  },
  {
   "cell_type": "code",
   "execution_count": 17,
   "id": "6d82c8bc",
   "metadata": {},
   "outputs": [],
   "source": [
    "# Тип колонки с оплатой изменим с object на float\n",
    "checks['revenue'] = checks['revenue'].astype(float)"
   ]
  },
  {
   "cell_type": "code",
   "execution_count": 18,
   "id": "e3e55ea1",
   "metadata": {},
   "outputs": [
    {
     "data": {
      "text/plain": [
       "541"
      ]
     },
     "execution_count": 18,
     "metadata": {},
     "output_type": "execute_result"
    }
   ],
   "source": [
    "checks.student_id.nunique()"
   ]
  },
  {
   "cell_type": "code",
   "execution_count": 19,
   "id": "705ed583",
   "metadata": {},
   "outputs": [
    {
     "data": {
      "text/plain": [
       "array([1], dtype=int64)"
      ]
     },
     "execution_count": 19,
     "metadata": {},
     "output_type": "execute_result"
    }
   ],
   "source": [
    "# Обратим внимание на то, что в наших данных у кажлого платящего студента есть только 1 оплата\n",
    "checks.groupby('student_id', as_index=False).agg({'revenue' : 'count'}).revenue.unique()"
   ]
  },
  {
   "cell_type": "markdown",
   "id": "2ef21ebe",
   "metadata": {},
   "source": [
    "C датафреймом **checks** всё в порядке. У нас **541** платящий студент в дни проведения эксперимента и у каждого платящего студента всего 1 оплата! "
   ]
  },
  {
   "cell_type": "markdown",
   "id": "4ae66dd0",
   "metadata": {},
   "source": [
    "### Соберём датафрейм **active_users_and_checks** с платящими и не платящими студентами, поучавствовавшими в эксперименте, с разбивкой по группам, по которому будем обсчитывать интересующие нас  метрики!"
   ]
  },
  {
   "cell_type": "code",
   "execution_count": 20,
   "id": "fd78c0a1",
   "metadata": {},
   "outputs": [],
   "source": [
    "active_users_and_checks = active_studs.merge(checks, on='student_id', how = 'left').merge(groups, on='student_id')\n",
    "active_users_and_checks['revenue'] = active_users_and_checks['revenue'].round(2)\n",
    "active_users_and_checks['revenue'] = active_users_and_checks['revenue'].fillna(0) # Пропуски в оплатах заполним 0-ми"
   ]
  },
  {
   "cell_type": "code",
   "execution_count": 21,
   "id": "7642c8f1",
   "metadata": {},
   "outputs": [
    {
     "data": {
      "text/plain": [
       "391"
      ]
     },
     "execution_count": 21,
     "metadata": {},
     "output_type": "execute_result"
    }
   ],
   "source": [
    "# Количество платящих студентов, поучавствовавших в эксперименте\n",
    "active_users_and_checks.query('revenue != 0').student_id.nunique()"
   ]
  },
  {
   "cell_type": "code",
   "execution_count": 22,
   "id": "114fbcf2",
   "metadata": {},
   "outputs": [
    {
     "data": {
      "text/plain": [
       "8328"
      ]
     },
     "execution_count": 22,
     "metadata": {},
     "output_type": "execute_result"
    }
   ],
   "source": [
    "# Количество студентов, поучавствовавших в эксперименте\n",
    "active_users_and_checks.student_id.nunique()"
   ]
  },
  {
   "cell_type": "code",
   "execution_count": 23,
   "id": "897062f1",
   "metadata": {},
   "outputs": [
    {
     "data": {
      "text/html": [
       "<div>\n",
       "<style scoped>\n",
       "    .dataframe tbody tr th:only-of-type {\n",
       "        vertical-align: middle;\n",
       "    }\n",
       "\n",
       "    .dataframe tbody tr th {\n",
       "        vertical-align: top;\n",
       "    }\n",
       "\n",
       "    .dataframe thead th {\n",
       "        text-align: right;\n",
       "    }\n",
       "</style>\n",
       "<table border=\"1\" class=\"dataframe\">\n",
       "  <thead>\n",
       "    <tr style=\"text-align: right;\">\n",
       "      <th></th>\n",
       "      <th>group</th>\n",
       "      <th>student_id</th>\n",
       "    </tr>\n",
       "  </thead>\n",
       "  <tbody>\n",
       "    <tr>\n",
       "      <th>0</th>\n",
       "      <td>A</td>\n",
       "      <td>78</td>\n",
       "    </tr>\n",
       "    <tr>\n",
       "      <th>1</th>\n",
       "      <td>B</td>\n",
       "      <td>313</td>\n",
       "    </tr>\n",
       "  </tbody>\n",
       "</table>\n",
       "</div>"
      ],
      "text/plain": [
       "  group  student_id\n",
       "0     A          78\n",
       "1     B         313"
      ]
     },
     "execution_count": 23,
     "metadata": {},
     "output_type": "execute_result"
    }
   ],
   "source": [
    "# Количество платящих студентов в эсперименте в разбивке по группам\n",
    "active_users_and_checks.query('revenue != 0').groupby('group', as_index=False).agg({'student_id': 'nunique'})"
   ]
  },
  {
   "cell_type": "code",
   "execution_count": 24,
   "id": "3c95e8e4",
   "metadata": {},
   "outputs": [
    {
     "data": {
      "text/html": [
       "<div>\n",
       "<style scoped>\n",
       "    .dataframe tbody tr th:only-of-type {\n",
       "        vertical-align: middle;\n",
       "    }\n",
       "\n",
       "    .dataframe tbody tr th {\n",
       "        vertical-align: top;\n",
       "    }\n",
       "\n",
       "    .dataframe thead th {\n",
       "        text-align: right;\n",
       "    }\n",
       "</style>\n",
       "<table border=\"1\" class=\"dataframe\">\n",
       "  <thead>\n",
       "    <tr style=\"text-align: right;\">\n",
       "      <th></th>\n",
       "      <th>group</th>\n",
       "      <th>student_id</th>\n",
       "    </tr>\n",
       "  </thead>\n",
       "  <tbody>\n",
       "    <tr>\n",
       "      <th>0</th>\n",
       "      <td>A</td>\n",
       "      <td>1535</td>\n",
       "    </tr>\n",
       "    <tr>\n",
       "      <th>1</th>\n",
       "      <td>B</td>\n",
       "      <td>6793</td>\n",
       "    </tr>\n",
       "  </tbody>\n",
       "</table>\n",
       "</div>"
      ],
      "text/plain": [
       "  group  student_id\n",
       "0     A        1535\n",
       "1     B        6793"
      ]
     },
     "execution_count": 24,
     "metadata": {},
     "output_type": "execute_result"
    }
   ],
   "source": [
    "# Количество студентов, поучавствовавших в эсперименте в разбивке по группам\n",
    "active_users_and_checks.groupby('group', as_index=False).agg({'student_id': 'nunique'})"
   ]
  },
  {
   "cell_type": "markdown",
   "id": "8657f186",
   "metadata": {},
   "source": [
    "Получается  в дни проведения эксперимента у нас поучавствовал **391** платящий активный студент , а всего в эксперименте приняло участие **8328** студентов! Подметим то, что не все платящие студенты оказались активными и это нормально, просто некоторые из платящих студентов не попали в наши контрольную и тестовую группы! Для того, чтобы учитывать студентов корректно, мы смерджили наши датафреймы, чтобы отобрать только тех студентов (активных платящих и просто активных), которые поучавствовали в эксперименте!"
   ]
  },
  {
   "cell_type": "markdown",
   "id": "f408f446",
   "metadata": {},
   "source": [
    "### Выберем основные метрики основные метрики, по которым мы хотим оценивать результат нашего эксперимента!"
   ]
  },
  {
   "cell_type": "markdown",
   "id": "9ed0e9a3",
   "metadata": {},
   "source": [
    "1. **ARPU** - средняя выручка на одного активного студента (поучавствовавшего в эксперименте).\n",
    "2. **ARPPU** - средняя выручка на одного платящего активного студента.\n",
    "3. **CRP** - конверсия из активного студента в платящего.\n",
    "4. **Revenue** - общая выручка в ходе эксперимента."
   ]
  },
  {
   "cell_type": "markdown",
   "id": "69a9418b",
   "metadata": {},
   "source": [
    "Так как у нас есть сильный перекос в контрольной и тестовой выборке, метрика **Revenue**  нас не так интересует и нашими целевыми метриками для оценки результатов эксперимента будут **ARPU** , **ARPPU** и **CRP**."
   ]
  },
  {
   "cell_type": "code",
   "execution_count": 25,
   "id": "f9c4ae21",
   "metadata": {},
   "outputs": [],
   "source": [
    "# Сформируем отдельно контрольную и тестовую группы\n",
    "group_A = active_users_and_checks.query('group == \"A\" and revenue != 0')\n",
    "group_B = active_users_and_checks.query('group == \"B\" and revenue != 0')"
   ]
  },
  {
   "cell_type": "code",
   "execution_count": 26,
   "id": "8b23eed3",
   "metadata": {},
   "outputs": [],
   "source": [
    "ARPU_control = active_users_and_checks.query('group == \"A\"').revenue\n",
    "ARPU_test = active_users_and_checks.query('group == \"B\"').revenue"
   ]
  },
  {
   "cell_type": "code",
   "execution_count": 27,
   "id": "2d31084a",
   "metadata": {},
   "outputs": [],
   "source": [
    "active_users_group_A = active_users_and_checks.query('group == \"A\"').shape\n",
    "active_users_group_B = active_users_and_checks.query('group == \"B\"').shape"
   ]
  },
  {
   "cell_type": "code",
   "execution_count": 28,
   "id": "81cc1ff8",
   "metadata": {},
   "outputs": [],
   "source": [
    "ARPPU_control = group_A.revenue\n",
    "ARPPU_test = group_B.revenue"
   ]
  },
  {
   "cell_type": "code",
   "execution_count": 29,
   "id": "98b6c248",
   "metadata": {},
   "outputs": [],
   "source": [
    "ARPU_A = (ARPPU_control.sum() / active_users_group_A[0]).round(2)\n",
    "ARPU_B = (ARPPU_test.sum() / active_users_group_B[0]).round(2)"
   ]
  },
  {
   "cell_type": "code",
   "execution_count": 30,
   "id": "27bfdc4b",
   "metadata": {},
   "outputs": [
    {
     "name": "stdout",
     "output_type": "stream",
     "text": [
      "ARPU в контрольной группе = 47.44\n",
      "ARPU в тестовой группе = 57.86\n",
      "ARPU в тестовой группе увеличился на 21.96%\n"
     ]
    }
   ],
   "source": [
    "# Посмотрим на различия в ARPPU в контрольной и тестовой группах\n",
    "print(f'ARPU в контрольной группе = {ARPU_A}')\n",
    "print(f'ARPU в тестовой группе = {ARPU_B}')\n",
    "print(f'ARPU в тестовой группе увеличился на {(((ARPPU_test.sum() / active_users_group_B[0]).round(2) - (ARPPU_control.sum() / active_users_group_A[0]).round(2)) * 100 / (ARPPU_control.sum() / active_users_group_A[0]).round(2)).round(2)}%')"
   ]
  },
  {
   "cell_type": "code",
   "execution_count": 31,
   "id": "2b95fdb7",
   "metadata": {},
   "outputs": [],
   "source": [
    "ARPPU_A = ARPPU_control.mean().round(2)\n",
    "ARPPU_B = ARPPU_test.mean().round(2)"
   ]
  },
  {
   "cell_type": "code",
   "execution_count": 32,
   "id": "44b89251",
   "metadata": {},
   "outputs": [
    {
     "name": "stdout",
     "output_type": "stream",
     "text": [
      "ARPPU в контрольной группе = 933.59\n",
      "ARPPU в тестовой группе = 1255.83\n",
      "ARPPU в тестовой группе увеличился на 34.52%\n"
     ]
    }
   ],
   "source": [
    "# Посмотрим на различия в ARPPU в контрольной и тестовой группах\n",
    "print(f'ARPPU в контрольной группе = {ARPPU_A}')\n",
    "print(f'ARPPU в тестовой группе = {ARPPU_B}')\n",
    "print(f'ARPPU в тестовой группе увеличился на {((ARPPU_test.mean().round(2) - ARPPU_control.mean().round(2)) * 100 / ARPPU_control.mean().round(2)).round(2)}%')"
   ]
  },
  {
   "cell_type": "code",
   "execution_count": 33,
   "id": "f2ce9d0f",
   "metadata": {},
   "outputs": [],
   "source": [
    "CRP_A = ARPPU_control.shape[0] * 100 / active_users_group_A[0]\n",
    "CRP_B = ARPPU_test.shape[0] * 100 / active_users_group_B[0]"
   ]
  },
  {
   "cell_type": "code",
   "execution_count": 34,
   "id": "d1503ae9",
   "metadata": {},
   "outputs": [
    {
     "name": "stdout",
     "output_type": "stream",
     "text": [
      "CRP в контрольной группе = 5.0814332247557%\n",
      "CRP в тестовой группе = 4.607684380980421%\n",
      "В тестовой группе CRP уменьшился на 0.4737488437752786%\n"
     ]
    }
   ],
   "source": [
    "# Посмотрим на количество акктивных студентов в контрольной и тестовой группах, принявших участие в эксперименте\n",
    "print(f'CRP в контрольной группе = {CRP_A}%')\n",
    "print(f'CRP в тестовой группе = {CRP_B}%')\n",
    "print(f'В тестовой группе CRP уменьшился на {(ARPPU_control.shape[0] * 100 / active_users_group_A[0]) - (ARPPU_test.shape[0] * 100 / active_users_group_B[0])}%')"
   ]
  },
  {
   "cell_type": "code",
   "execution_count": 35,
   "id": "d79a4adb",
   "metadata": {},
   "outputs": [],
   "source": [
    "# Cоздадим датафрейм metrics для визуализации изменений в метриках\n",
    "metrics = pd.DataFrame(data = {'group': ['A', 'B'], 'ARPU': [ARPU_A, ARPU_B], 'ARPPU': [ARPPU_A, ARPPU_B], 'CRP': [CRP_A, CRP_B]})"
   ]
  },
  {
   "cell_type": "code",
   "execution_count": 36,
   "id": "58ad879e",
   "metadata": {},
   "outputs": [
    {
     "data": {
      "text/html": [
       "<div>\n",
       "<style scoped>\n",
       "    .dataframe tbody tr th:only-of-type {\n",
       "        vertical-align: middle;\n",
       "    }\n",
       "\n",
       "    .dataframe tbody tr th {\n",
       "        vertical-align: top;\n",
       "    }\n",
       "\n",
       "    .dataframe thead th {\n",
       "        text-align: right;\n",
       "    }\n",
       "</style>\n",
       "<table border=\"1\" class=\"dataframe\">\n",
       "  <thead>\n",
       "    <tr style=\"text-align: right;\">\n",
       "      <th></th>\n",
       "      <th>group</th>\n",
       "      <th>ARPU</th>\n",
       "      <th>ARPPU</th>\n",
       "      <th>CRP</th>\n",
       "    </tr>\n",
       "  </thead>\n",
       "  <tbody>\n",
       "    <tr>\n",
       "      <th>0</th>\n",
       "      <td>A</td>\n",
       "      <td>47.44</td>\n",
       "      <td>933.59</td>\n",
       "      <td>5.081433</td>\n",
       "    </tr>\n",
       "    <tr>\n",
       "      <th>1</th>\n",
       "      <td>B</td>\n",
       "      <td>57.86</td>\n",
       "      <td>1255.83</td>\n",
       "      <td>4.607684</td>\n",
       "    </tr>\n",
       "  </tbody>\n",
       "</table>\n",
       "</div>"
      ],
      "text/plain": [
       "  group   ARPU    ARPPU       CRP\n",
       "0     A  47.44   933.59  5.081433\n",
       "1     B  57.86  1255.83  4.607684"
      ]
     },
     "execution_count": 36,
     "metadata": {},
     "output_type": "execute_result"
    }
   ],
   "source": [
    "metrics"
   ]
  },
  {
   "cell_type": "markdown",
   "id": "73c44c9e",
   "metadata": {},
   "source": [
    "Посмотрим на изменения метрик **ARPU**, **ARPPU** и **CRP** в контрольной и тестовой группах!"
   ]
  },
  {
   "cell_type": "code",
   "execution_count": 37,
   "id": "03218fee",
   "metadata": {},
   "outputs": [
    {
     "data": {
      "image/png": "[encoded data removed]",
      "text/plain": [
       "<Figure size 1000x600 with 3 Axes>"
      ]
     },
     "metadata": {},
     "output_type": "display_data"
    }
   ],
   "source": [
    "# Создаем фигуру и оси для подграфиков\n",
    "fig, axes = plt.subplots(1, 3, figsize=(10, 6))\n",
    "# Строим барплот для метрики ARPU\n",
    "sns.barplot(ax=axes[0], data=metrics, x='group', y='ARPU',  hue=['control', 'test'])\n",
    "axes[0].axhline(y=ARPU_A, color='r', linestyle='--')\n",
    "axes[0].set_xlabel('groups')  # Устанавливаем подпись для оси X\n",
    "axes[0].set_title('ARPU')  # Добавляем заголовок для тестовой группы\n",
    "\n",
    "# Строим барплот для метрики ARPPU\n",
    "sns.barplot(ax=axes[1], data=metrics, x='group', y='ARPPU', hue=['control', 'test'])\n",
    "axes[1].axhline(y=ARPPU_A, color='r', linestyle='--')\n",
    "axes[1].set_xlabel('groups')  # Устанавливаем подпись для оси X\n",
    "axes[1].set_title('ARPPU')  # Добавляем заголовок для контрольной группы\n",
    "\n",
    "# Строим барплот для метрики CRP\n",
    "sns.barplot(ax=axes[2], data=metrics, x='group', y='CRP', hue=['control', 'test'])\n",
    "axes[2].axhline(y=CRP_B, color='r', linestyle='--')\n",
    "axes[2].set_xlabel('groups')  # Устанавливаем подпись для оси X\n",
    "axes[2].set_title('CRP')  # Добавляем заголовок для тестовой группы\n",
    "\n",
    "# Показываем график\n",
    "plt.tight_layout()  # Автоматически подгоняет подграфики\n",
    "plt.show()"
   ]
  },
  {
   "cell_type": "markdown",
   "id": "708a46f0",
   "metadata": {},
   "source": [
    "По предварительным расчётам мы видим , что в тестовой группе увеличилась **ARPU** на **21.96%**, **ARPPU** на **34.52%**, а вот конверсия в платящего студента снизилась примерно на **0.5%**! Теперь необходимо узнать статистически значимы ли эти различия! Так как мы знаем , что студенты совершали только по одной оплате , фактически **ARPPU** является **средним чеком**. Тогда нашими целевыми метриками для оценки результатов АB- теста будут метрики **ARPPU**,  **ARPU** и **CRP**!"
   ]
  },
  {
   "cell_type": "markdown",
   "id": "e66830a6",
   "metadata": {},
   "source": [
    "### Теперь необходимо узнать статистически значимы ли эти различия!"
   ]
  },
  {
   "cell_type": "markdown",
   "id": "52c97667",
   "metadata": {},
   "source": [
    "**Так как мы имеем дело с денежной метрикой, то понимаем что ARPPU и ARPU распределены ненормально (скорее всего будет достаточно много небольших трат или чеков и мало больших чеков) и использовать проверку на нормальность при помощи теста Шапиро-Уилка, к примеру, будет излишним! И, для того, чтобы определиться с тестом, нам необходима проверка дисперсий в группах! Произведём проверку дисперсий при помощи теста Левена!**"
   ]
  },
  {
   "cell_type": "markdown",
   "id": "bec56577",
   "metadata": {},
   "source": [
    "Сформулируем нулевую и альтернативную гипотезы:\n",
    "\n",
    "H0 - дисперсии в контрольной и тестовой группах **ARPPU** и **ARPU** равны (гомоскедаксичность).\n",
    "\n",
    "H1 - дисперсии в контрольной и тестовой группах **ARPPU** и **ARPU** отличаются (гетероскедаксичность)."
   ]
  },
  {
   "cell_type": "code",
   "execution_count": 38,
   "id": "a48fe872",
   "metadata": {},
   "outputs": [
    {
     "data": {
      "text/plain": [
       "0.08123512497403333"
      ]
     },
     "execution_count": 38,
     "metadata": {},
     "output_type": "execute_result"
    }
   ],
   "source": [
    "# Проверяем гомогенность дисперсий в контрольной и тестовой группах ARPPU\n",
    "resalt_levene_ARPPU = stats.levene(ARPPU_control, ARPPU_test)\n",
    "resalt_levene_ARPPU.pvalue"
   ]
  },
  {
   "cell_type": "code",
   "execution_count": 39,
   "id": "4ff4cc26",
   "metadata": {},
   "outputs": [
    {
     "data": {
      "text/plain": [
       "0.23288011574035025"
      ]
     },
     "execution_count": 39,
     "metadata": {},
     "output_type": "execute_result"
    }
   ],
   "source": [
    "# Проверяем гомогенность дисперсий в контрольной и тестовой группах ARPU\n",
    "resalt_levene_ARPU = stats.levene(ARPU_control, ARPU_test)\n",
    "resalt_levene_ARPU.pvalue"
   ]
  },
  {
   "cell_type": "markdown",
   "id": "cc2164b0",
   "metadata": {},
   "source": [
    "Посмотрим на распределения **ARPPU** в контрольной и тестовой группах!"
   ]
  },
  {
   "cell_type": "code",
   "execution_count": 40,
   "id": "41ab00c3",
   "metadata": {},
   "outputs": [
    {
     "data": {
      "text/plain": [
       "<Axes: xlabel='revenue', ylabel='Count'>"
      ]
     },
     "execution_count": 40,
     "metadata": {},
     "output_type": "execute_result"
    },
    {
     "data": {
      "image/png": "[encoded data removed]",
      "text/plain": [
       "<Figure size 640x480 with 1 Axes>"
      ]
     },
     "metadata": {},
     "output_type": "display_data"
    }
   ],
   "source": [
    "sns.histplot(active_users_and_checks.query('revenue != 0'), x='revenue', hue='group', palette='flare')"
   ]
  },
  {
   "cell_type": "markdown",
   "id": "77f886db",
   "metadata": {},
   "source": [
    "Посмотрим на распределения **ARPU** в контрольной и тестовой группах!"
   ]
  },
  {
   "cell_type": "code",
   "execution_count": 41,
   "id": "763b97bd",
   "metadata": {},
   "outputs": [
    {
     "data": {
      "text/plain": [
       "<Axes: xlabel='revenue', ylabel='Count'>"
      ]
     },
     "execution_count": 41,
     "metadata": {},
     "output_type": "execute_result"
    },
    {
     "data": {
      "image/png": "[encoded data removed]",
      "text/plain": [
       "<Figure size 640x480 with 1 Axes>"
      ]
     },
     "metadata": {},
     "output_type": "display_data"
    }
   ],
   "source": [
    "sns.histplot(active_users_and_checks, x='revenue', hue='group', palette='flare')"
   ]
  },
  {
   "cell_type": "markdown",
   "id": "76d4ae69",
   "metadata": {},
   "source": [
    "**Проверим статистическую значимость изменений в метрике ARPPU!**"
   ]
  },
  {
   "cell_type": "markdown",
   "id": "5bcfd9e9",
   "metadata": {},
   "source": [
    "Сформулируем нулевую и альтернативную гипотезы:\n",
    "\n",
    "H0 - cтатистически значимых различий **ARPPU** в контрольной и тестовой группах нет.\n",
    "\n",
    "H1 - ARPPU в тестовой группе статистически значимо увеличилось по сравнению с **ARPPU** в контрольной группе."
   ]
  },
  {
   "cell_type": "markdown",
   "id": "9f0a6839",
   "metadata": {},
   "source": [
    "Так как тест Левена по **ARPPU** показал p-value = 0.23, у нас недостаточно оснований для того, что отклонить нулевую гипотезу и мы мжем говорить что дисперсии в контрольной и тестовой группах **ARPPU** статистически значимо не отличаются! А так как наши выборки ARPPU_control и ARPPU_test довольно велики (> 30), мы можем не обращать внимания на ненормальность распределения выборок и применить для оценки статистической значимости в изменениях **ARPPU** классический ттест!"
   ]
  },
  {
   "cell_type": "code",
   "execution_count": 42,
   "id": "97b54be5-d795-4c75-b772-32e626c0ab60",
   "metadata": {},
   "outputs": [
    {
     "data": {
      "text/plain": [
       "0.001999178560469943"
      ]
     },
     "execution_count": 42,
     "metadata": {},
     "output_type": "execute_result"
    }
   ],
   "source": [
    "resalt_ARPPU = stats.ttest_ind(ARPPU_control, ARPPU_test)\n",
    "resalt_ARPPU.pvalue"
   ]
  },
  {
   "cell_type": "markdown",
   "id": "e54cc826-3d68-45ad-b171-42562bdbfb47",
   "metadata": {},
   "source": [
    "Мы получили p-value < 0.05 (0.019), что говорит нам о том, что у нас достаточно оcнований чтобы отвергнуть нулевую гипотезу и различия в тестовой и контрольной группе **ARPPU** статистически значимы!"
   ]
  },
  {
   "cell_type": "markdown",
   "id": "75cf13e3",
   "metadata": {},
   "source": [
    "**Теперь проверим статистическую значимость изменений в метрике ARPU!**"
   ]
  },
  {
   "cell_type": "markdown",
   "id": "6b41c0d9",
   "metadata": {},
   "source": [
    "Сформулируем нулевую и альтернативную гипотезы:\n",
    "\n",
    "H0 - cтатистически значимых различий **ARPU** в контрольной и тестовой группах нет.\n",
    "\n",
    "H1 - ARPU в тестовой группе статистически значимо увеличилось по сравнению с **ARPU** в контрольной группе."
   ]
  },
  {
   "cell_type": "markdown",
   "id": "fe4e07a0",
   "metadata": {},
   "source": [
    "Так как тест Левена по **ARPU** показал p-value = 0.23, у нас недостаточно оснований для того, что отклонить нулевую гипотезу и мы мжем говорить что дисперсии в контрольной и тестовой группах **ARPU** статистически значимо не отличаются! А так как наши выборки ARPU_control и ARPU_test измеряются тысячами (1535 и 6793 соответственно), мы можем не обращать внимания на нормальность распределения выборок и применить для оценки статистической значимости в изменениях **ARPU** классический ттест!"
   ]
  },
  {
   "cell_type": "code",
   "execution_count": 43,
   "id": "db07231c",
   "metadata": {},
   "outputs": [
    {
     "data": {
      "text/plain": [
       "0.23288011573839099"
      ]
     },
     "execution_count": 43,
     "metadata": {},
     "output_type": "execute_result"
    }
   ],
   "source": [
    "resalt_ARPU = stats.ttest_ind(ARPU_control, ARPU_test)\n",
    "resalt_ARPU.pvalue"
   ]
  },
  {
   "cell_type": "markdown",
   "id": "c878548f",
   "metadata": {},
   "source": [
    "Мы получили p-value > 0.05 (0.233), что говорит нам о том, что у нас недостаточно оcнований чтобы отвергнуть нулевую гипотезу и различия в тестовой и контрольной группе **ARPU** не статистически значимы!"
   ]
  },
  {
   "cell_type": "markdown",
   "id": "d8ea80bc",
   "metadata": {},
   "source": [
    "**Теперь проверим статистическую значимость изменений в метрике CRP!**"
   ]
  },
  {
   "cell_type": "markdown",
   "id": "10475039",
   "metadata": {},
   "source": [
    "**Так как метрика CRP в тестовой группе уменьшилась, нам она не так интересна с точки зрения принятия решения о выкатывании новой механики оплаты на сайте , но мы проверим стат значимы ли различия в конверсиях в оплату!**"
   ]
  },
  {
   "cell_type": "markdown",
   "id": "ccce41c1",
   "metadata": {},
   "source": [
    "Сформулируем нулевую и альтернативную гипотезы:\n",
    "\n",
    "H0 - cтатистически значимых различий **CRP** в контрольной и тестовой группах нет.\n",
    "\n",
    "H1 - CRP в тестовой группе статистически значимо уменьшилось по сравнению с **CRP** в контрольной группе."
   ]
  },
  {
   "cell_type": "code",
   "execution_count": 44,
   "id": "9fa81661",
   "metadata": {},
   "outputs": [],
   "source": [
    "# Соберём датафрейм со всеми юзерами, поучавствовавшими в эксперименте и пометим \"плативших\" и \"не плативших\"\n",
    "active_users_and_checks_2 = active_users_and_checks.copy()\n",
    "active_users_and_checks_2['revenue'] = active_users_and_checks_2['revenue'].apply(lambda x: 'no pay' if x == 0 else 'pay')"
   ]
  },
  {
   "cell_type": "code",
   "execution_count": 45,
   "id": "56c8b977",
   "metadata": {},
   "outputs": [
    {
     "data": {
      "text/html": [
       "<div>\n",
       "<style scoped>\n",
       "    .dataframe tbody tr th:only-of-type {\n",
       "        vertical-align: middle;\n",
       "    }\n",
       "\n",
       "    .dataframe tbody tr th {\n",
       "        vertical-align: top;\n",
       "    }\n",
       "\n",
       "    .dataframe thead th {\n",
       "        text-align: right;\n",
       "    }\n",
       "</style>\n",
       "<table border=\"1\" class=\"dataframe\">\n",
       "  <thead>\n",
       "    <tr style=\"text-align: right;\">\n",
       "      <th>revenue</th>\n",
       "      <th>no pay</th>\n",
       "      <th>pay</th>\n",
       "    </tr>\n",
       "    <tr>\n",
       "      <th>group</th>\n",
       "      <th></th>\n",
       "      <th></th>\n",
       "    </tr>\n",
       "  </thead>\n",
       "  <tbody>\n",
       "    <tr>\n",
       "      <th>A</th>\n",
       "      <td>1457</td>\n",
       "      <td>78</td>\n",
       "    </tr>\n",
       "    <tr>\n",
       "      <th>B</th>\n",
       "      <td>6480</td>\n",
       "      <td>313</td>\n",
       "    </tr>\n",
       "  </tbody>\n",
       "</table>\n",
       "</div>"
      ],
      "text/plain": [
       "revenue  no pay  pay\n",
       "group               \n",
       "A          1457   78\n",
       "B          6480  313"
      ]
     },
     "execution_count": 45,
     "metadata": {},
     "output_type": "execute_result"
    }
   ],
   "source": [
    "# Постороим таблицу сопряженности для оценки конверсий в оплату для контрольной и тестовой групп\n",
    "pd.crosstab(active_users_and_checks_2.group, active_users_and_checks_2.revenue)"
   ]
  },
  {
   "cell_type": "code",
   "execution_count": 46,
   "id": "038b9a64",
   "metadata": {},
   "outputs": [
    {
     "data": {
      "text/plain": [
       "0.46803677583199144"
      ]
     },
     "execution_count": 46,
     "metadata": {},
     "output_type": "execute_result"
    }
   ],
   "source": [
    "# Применим критерий хи - квадрат для оценки изменения конверсий\n",
    "chi2, p, dof, expected = chi2_contingency(pd.crosstab(active_users_and_checks_2.group, active_users_and_checks_2.revenue))\n",
    "p"
   ]
  },
  {
   "cell_type": "markdown",
   "id": "986c11b1",
   "metadata": {},
   "source": [
    "P-value = 0.46 говорит нам о том , что у нас недостаточно оснований для того, чтобы отвергнуть нулевую гипотезу и статистически значимых различий в конверсии в оплату между контрольной и тестовой группой нет!"
   ]
  },
  {
   "cell_type": "markdown",
   "id": "9c2f8750",
   "metadata": {},
   "source": [
    "### Выводы:"
   ]
  },
  {
   "cell_type": "markdown",
   "id": "0b9223b9",
   "metadata": {},
   "source": [
    " **В результате AB - теста мы получили статистически значимые различия по ARPPU и не стат значимые различия по ARPU, а это означает что мы можем отклонить 0-ю гипотезу о равенстве ARPPU пользователей и не можем отклонить 0-ю гипотезу о равенстве ARPU! Также получили p-value = 0.46 (хи -квадрат), что говорит нам о том, что у нас не достаточно оснований , для того чтобы отклонить нулевую гипотезу о равенстве конверсий в оплату! Разница в контрольной и тестовой группе по ARPPU статистически значимая, в то время как статистически значимой разницы в ARPU и конверсии в оплату нет! Это нам может говорить о том, что новая механика оплаты не влияет на коверсию в оплату, но влияет на уже платящих юзеров, ARPPU которых увеличился!\n",
    " Важное замечание в том, что , судя по всему, у нас некорректно работает система сплитования , т к выборки в контроле и тесте получились очень скошенные, а значит и тест был проведён не совсем корректно! Но имеем что имеем в данной ситуации и я бы делал основные выводы после корректировки системы сплитования, а на данный момент принял бы решение на основе стат значимых изменений ARPPU, т е выкатывал бы изменения в механике оплаты на сайте в прод, возможно не на весь пулл юзеров, а на какую то часть, из за сомнений в системе сплитования!**"
   ]
  },
  {
   "cell_type": "markdown",
   "id": "05632746",
   "metadata": {},
   "source": [
    "### Функция по добавлению данных"
   ]
  },
  {
   "cell_type": "markdown",
   "id": "c8dfe3f2",
   "metadata": {},
   "source": [
    "Реализуем функцию, которая будет принимать на вход название файла с обновлением списка студентов, а на выходе будет возвращать обновленные метрики (**ARPU**, **ARPPU**, **CRP**)."
   ]
  },
  {
   "cell_type": "code",
   "execution_count": 50,
   "id": "079cd3d1",
   "metadata": {},
   "outputs": [],
   "source": [
    "group_add_url = 'https://drive.google.com/file/d/1-NLwzq1uL1TJY8mzxDAJc4FUyiMZkkww/view?usp=sharing'"
   ]
  },
  {
   "cell_type": "code",
   "execution_count": 51,
   "id": "83e6aa06",
   "metadata": {},
   "outputs": [],
   "source": [
    "def upd_metrics_function(group_add_url):\n",
    "    # Извлекаем ID файла из ссылки\n",
    "    file_id = group_add_url.split('/d/')[1].split('/')[0]\n",
    "    # Формируем ссылку на скачивание\n",
    "    download_url = f'https://drive.google.com/uc?id={file_id}'\n",
    "    # Отправляем запрос на данные\n",
    "    response = requests.get(download_url)\n",
    "    # Проверяем статус ответа\n",
    "    if response.status_code == 200:\n",
    "        # Читаем скачанный файл с выбранным разделителем\n",
    "        group_add = pd.read_csv(StringIO(response.text), sep=',')\n",
    "    else:\n",
    "        print(f\"Ошибка при скачивании файла: {response.status_code} - {response.text}\")\n",
    "        \n",
    "    # Так как у нас в условии сказано что названия колонок могут не совпадать, а колонок мы знаем что 2, преобразуем\n",
    "    # наш датафрейм для общего случая с различающимися названиями колонок\n",
    "    for i in range(2):\n",
    "        group_ = list(group_add.iloc[:, i].unique())[i]\n",
    "        if group_ == 'A' or group_ == 'B':\n",
    "            group_add['group'] = group_add.iloc[:, i]\n",
    "        else:\n",
    "            group_add['student_id'] = group_add.iloc[:, i]\n",
    "\n",
    "    # Оставим только нужные нам колонки\n",
    "    group_add = group_add[['student_id', 'group']] \n",
    "    # Приведём к нужному типа данных колонку student_id для общего случая\n",
    "    group_add['student_id'] = group_add['student_id'].astype(str)\n",
    "\n",
    "    # Обновим датафрейм groups с учётом новых данных о студентах\n",
    "    groups_upd = pd.concat([groups, group_add], ignore_index=True)\n",
    "    \n",
    "    # Соберём датафрейм active_users_and_checks_upd с платящими и не платящими студентами, поучавствовавшими в эксперименте, \n",
    "    # с разбивкой по группам, для пересчёта метрик!\n",
    "    active_users_and_checks_upd = active_studs.merge(checks, on='student_id', how = 'left').merge(groups_upd, on='student_id')\n",
    "    active_users_and_checks_upd['revenue'] = active_users_and_checks_upd['revenue'].round(2)\n",
    "    active_users_and_checks_upd['revenue'] = active_users_and_checks_upd['revenue'].fillna(0) # Пропуски в оплатах заполним 0-ми\n",
    "\n",
    "    # Сформируем отдельно контрольную и тестовую группы\n",
    "    group_A_upd = active_users_and_checks_upd.query('group == \"A\" and revenue != 0')\n",
    "    group_B_upd = active_users_and_checks_upd.query('group == \"B\" and revenue != 0')\n",
    "\n",
    "    active_users_group_A_upd = active_users_and_checks_upd.query('group == \"A\"').shape\n",
    "    active_users_group_B_upd = active_users_and_checks_upd.query('group == \"B\"').shape\n",
    "\n",
    "    control_group_upd = group_A_upd.revenue\n",
    "    test_group_upd = group_B_upd.revenue\n",
    "\n",
    "    metrics_upd = pd.DataFrame(data = {'group': ['A', 'B'], 'ARPU': [(control_group_upd.sum() / active_users_group_A_upd[0]).round(2), (test_group_upd.sum() / active_users_group_B_upd[0]).round(2)], 'ARPPU': [control_group_upd.mean().round(2), test_group_upd.mean().round(2)], 'CRP': [control_group_upd.shape[0] * 100 / active_users_group_A_upd[0], test_group_upd.shape[0] * 100 / active_users_group_B_upd[0]]})\n",
    "\n",
    "    return metrics_upd"
   ]
  },
  {
   "cell_type": "code",
   "execution_count": 52,
   "id": "5c8a2b79",
   "metadata": {},
   "outputs": [],
   "source": [
    "# Вызовем функуию upd_metrics_function , подав на вход название файла с обновлением списка студентов\n",
    "upd_metrics = upd_metrics_function(group_add_url)"
   ]
  },
  {
   "cell_type": "code",
   "execution_count": 53,
   "id": "437a6319",
   "metadata": {},
   "outputs": [
    {
     "data": {
      "text/html": [
       "<div>\n",
       "<style scoped>\n",
       "    .dataframe tbody tr th:only-of-type {\n",
       "        vertical-align: middle;\n",
       "    }\n",
       "\n",
       "    .dataframe tbody tr th {\n",
       "        vertical-align: top;\n",
       "    }\n",
       "\n",
       "    .dataframe thead th {\n",
       "        text-align: right;\n",
       "    }\n",
       "</style>\n",
       "<table border=\"1\" class=\"dataframe\">\n",
       "  <thead>\n",
       "    <tr style=\"text-align: right;\">\n",
       "      <th></th>\n",
       "      <th>group</th>\n",
       "      <th>ARPU</th>\n",
       "      <th>ARPPU</th>\n",
       "      <th>CRP</th>\n",
       "    </tr>\n",
       "  </thead>\n",
       "  <tbody>\n",
       "    <tr>\n",
       "      <th>0</th>\n",
       "      <td>A</td>\n",
       "      <td>47.35</td>\n",
       "      <td>933.59</td>\n",
       "      <td>5.071521</td>\n",
       "    </tr>\n",
       "    <tr>\n",
       "      <th>1</th>\n",
       "      <td>B</td>\n",
       "      <td>58.06</td>\n",
       "      <td>1257.88</td>\n",
       "      <td>4.615611</td>\n",
       "    </tr>\n",
       "  </tbody>\n",
       "</table>\n",
       "</div>"
      ],
      "text/plain": [
       "  group   ARPU    ARPPU       CRP\n",
       "0     A  47.35   933.59  5.071521\n",
       "1     B  58.06  1257.88  4.615611"
      ]
     },
     "execution_count": 53,
     "metadata": {},
     "output_type": "execute_result"
    }
   ],
   "source": [
    "upd_metrics"
   ]
  },
  {
   "cell_type": "markdown",
   "id": "33906660",
   "metadata": {},
   "source": [
    "### Функция по визуализации метрик"
   ]
  },
  {
   "cell_type": "markdown",
   "id": "d2281d08",
   "metadata": {},
   "source": [
    "Реализуем функцию, которая на вход будет принимать датафрейм с обновленными метрики, а на выходе будет возвращать визуализацию этих метрик с разбивкой по группам для сравнения."
   ]
  },
  {
   "cell_type": "code",
   "execution_count": 54,
   "id": "1c77fe82",
   "metadata": {},
   "outputs": [],
   "source": [
    "def vizualization_metrics_function(metrics_sheet):\n",
    "    # Создаем фигуру и оси для подграфиков\n",
    "    fig, axes = plt.subplots(1, 3, figsize=(10, 6))\n",
    "\n",
    "    # Строим барплот для метрики ARPU\n",
    "    sns.barplot(ax=axes[0], data=metrics_sheet, x='group', y='ARPU',hue=['control', 'test'])\n",
    "    axes[0].axhline(y=ARPU_A, color='r', linestyle='--')\n",
    "    axes[0].set_xlabel('groups')  # Устанавливаем подпись для оси X\n",
    "    axes[0].set_title('ARPU')  # Добавляем заголовок для тестовой группы\n",
    "\n",
    "    # Строим барплот для метрики ARPPU\n",
    "    sns.barplot(ax=axes[1], data=metrics_sheet, x='group', y='ARPPU', hue=['control', 'test'])\n",
    "    axes[1].axhline(y=ARPPU_A, color='r', linestyle='--')\n",
    "    axes[1].set_xlabel('groups')  # Устанавливаем подпись для оси X\n",
    "    axes[1].set_title('ARPPU')  # Добавляем заголовок для контрольной группы\n",
    "\n",
    "    # Строим барплот для метрики CRP\n",
    "    sns.barplot(ax=axes[2], data=metrics_sheet, x='group', y='CRP', hue=['control', 'test'])\n",
    "    axes[2].axhline(y=CRP_B, color='r', linestyle='--')\n",
    "    axes[2].set_xlabel('groups')  # Устанавливаем подпись для оси X\n",
    "    axes[2].set_title('CRP')  # Добавляем заголовок для тестовой группы\n",
    "\n",
    "    # Показываем график\n",
    "    plt.tight_layout()  # Автоматически подгоняет подграфики\n",
    "    plt.show()"
   ]
  },
  {
   "cell_type": "code",
   "execution_count": 55,
   "id": "33ad58f1",
   "metadata": {},
   "outputs": [
    {
     "data": {
      "image/png": "[encoded data removed]",
      "text/plain": [
       "<Figure size 1000x600 with 3 Axes>"
      ]
     },
     "metadata": {},
     "output_type": "display_data"
    }
   ],
   "source": [
    "# Вызовем функцию vizualization_metrics_function, чтобы визуализировать обновленные метрики\n",
    "vizualization_metrics_function(upd_metrics)"
   ]
  }
 ],
 "metadata": {
  "kernelspec": {
   "display_name": "Python 3 (ipykernel)",
   "language": "python",
   "name": "python3"
  },
  "language_info": {
   "codemirror_mode": {
    "name": "ipython",
    "version": 3
   },
   "file_extension": ".py",
   "mimetype": "text/x-python",
   "name": "python",
   "nbconvert_exporter": "python",
   "pygments_lexer": "ipython3",
   "version": "3.11.7"
  }
 },
 "nbformat": 4,
 "nbformat_minor": 5
}
